{
 "cells": [
  {
   "cell_type": "markdown",
   "id": "5dbe7b9e",
   "metadata": {},
   "source": [
    "# Calculus and Algebra problems"
   ]
  },
  {
   "cell_type": "markdown",
   "id": "519c4b12",
   "metadata": {},
   "source": [
    "## Calculus\n",
    "\n",
    "Calculus is not obscure. It is the language for modeling behaviors. Calculus enables us to find the rate of changes in order to optimise a function. Without calculus, we would not be able to fully understand techniques such as:\n",
    "\n",
    "Backpropagation in neural networks\n",
    "\n",
    "Regression using optimal least square\n",
    "\n",
    "Expectation maximization in fitting probability models"
   ]
  },
  {
   "cell_type": "markdown",
   "id": "b7e2e87a",
   "metadata": {},
   "source": [
    "### Exercise 1\n",
    "\n",
    "Let’s say in my office, it takes me 10 seconds (time) to travel 25 meters (distance) to the coffee machine.\n",
    "If we want to express the above situation as a function, then it would be:\n",
    "\n",
    "distance = speed * time\n",
    "\n",
    "So for this case, speed is the first derivative of the distance function above. As speed describes the rate of change of distance over time, when people say taking the first derivative of a certain function, they mean finding out the rate of change of a function.\n",
    "\n",
    "**Find the speed and build the linear function on distance $(d)$ over time $(t)$, when $(t ∈ [0,10])$.**"
   ]
  },
  {
   "cell_type": "code",
   "execution_count": 1,
   "id": "65f368ff",
   "metadata": {},
   "outputs": [],
   "source": [
    "import pandas as pd\n",
    "import numpy as np\n",
    "import matplotlib.pyplot as plt\n",
    "import sympy as sy"
   ]
  },
  {
   "cell_type": "code",
   "execution_count": 24,
   "id": "bb3e954e",
   "metadata": {},
   "outputs": [
    {
     "name": "stdout",
     "output_type": "stream",
     "text": [
      "[ 0.          0.51020408  1.02040816  1.53061224  2.04081633  2.55102041\n",
      "  3.06122449  3.57142857  4.08163265  4.59183673  5.10204082  5.6122449\n",
      "  6.12244898  6.63265306  7.14285714  7.65306122  8.16326531  8.67346939\n",
      "  9.18367347  9.69387755 10.20408163 10.71428571 11.2244898  11.73469388\n",
      " 12.24489796 12.75510204 13.26530612 13.7755102  14.28571429 14.79591837\n",
      " 15.30612245 15.81632653 16.32653061 16.83673469 17.34693878 17.85714286\n",
      " 18.36734694 18.87755102 19.3877551  19.89795918 20.40816327 20.91836735\n",
      " 21.42857143 21.93877551 22.44897959 22.95918367 23.46938776 23.97959184\n",
      " 24.48979592 25.        ]\n"
     ]
    }
   ],
   "source": [
    "def f(x):\n",
    "    return 2.5*x\n",
    "\n",
    "x = np.linspace(0,10) #domain\n",
    "print(f(x))"
   ]
  },
  {
   "cell_type": "code",
   "execution_count": 25,
   "id": "dbc4c780",
   "metadata": {},
   "outputs": [
    {
     "data": {
      "image/png": "[encoded data removed]",
      "text/plain": [
       "<Figure size 432x288 with 1 Axes>"
      ]
     },
     "metadata": {
      "needs_background": "light"
     },
     "output_type": "display_data"
    }
   ],
   "source": [
    "plt.plot(x, f(x), color='black')\n",
    "\n",
    "plt.show()"
   ]
  },
  {
   "cell_type": "code",
   "execution_count": 26,
   "id": "4c4d4f20",
   "metadata": {},
   "outputs": [
    {
     "data": {
      "text/html": [
       "<div>\n",
       "<style scoped>\n",
       "    .dataframe tbody tr th:only-of-type {\n",
       "        vertical-align: middle;\n",
       "    }\n",
       "\n",
       "    .dataframe tbody tr th {\n",
       "        vertical-align: top;\n",
       "    }\n",
       "\n",
       "    .dataframe thead th {\n",
       "        text-align: right;\n",
       "    }\n",
       "</style>\n",
       "<table border=\"1\" class=\"dataframe\">\n",
       "  <thead>\n",
       "    <tr style=\"text-align: right;\">\n",
       "      <th></th>\n",
       "      <th>x</th>\n",
       "      <th>f(x)</th>\n",
       "    </tr>\n",
       "  </thead>\n",
       "  <tbody>\n",
       "    <tr>\n",
       "      <th>0</th>\n",
       "      <td>0.000000</td>\n",
       "      <td>0.000000</td>\n",
       "    </tr>\n",
       "    <tr>\n",
       "      <th>1</th>\n",
       "      <td>0.204082</td>\n",
       "      <td>0.510204</td>\n",
       "    </tr>\n",
       "    <tr>\n",
       "      <th>2</th>\n",
       "      <td>0.408163</td>\n",
       "      <td>1.020408</td>\n",
       "    </tr>\n",
       "    <tr>\n",
       "      <th>3</th>\n",
       "      <td>0.612245</td>\n",
       "      <td>1.530612</td>\n",
       "    </tr>\n",
       "    <tr>\n",
       "      <th>4</th>\n",
       "      <td>0.816327</td>\n",
       "      <td>2.040816</td>\n",
       "    </tr>\n",
       "  </tbody>\n",
       "</table>\n",
       "</div>"
      ],
      "text/plain": [
       "          x      f(x)\n",
       "0  0.000000  0.000000\n",
       "1  0.204082  0.510204\n",
       "2  0.408163  1.020408\n",
       "3  0.612245  1.530612\n",
       "4  0.816327  2.040816"
      ]
     },
     "execution_count": 26,
     "metadata": {},
     "output_type": "execute_result"
    }
   ],
   "source": [
    "df = pd.DataFrame({'x': x, 'f(x)': f(x)})\n",
    "df.head()"
   ]
  },
  {
   "cell_type": "markdown",
   "id": "1144168d",
   "metadata": {},
   "source": [
    "### Exercise 2\n",
    "\n",
    "It turned out that I wasn't walking a constant speed towards getting my coffee but I was accelerating (my speed increased over time). If initial speed = 0, it still took me 10 seconds to travel from my seat to my coffee but I was walking faster and faster.\n",
    "\n",
    "$V_o$ = initial speed = $0$\n",
    "\n",
    "t = time\n",
    "\n",
    "a = acceleration\n",
    "\n",
    "**distance** = $V_o * t + 0.5 * a * (t^2)$\n",
    "\n",
    "**speed** = $V_o + a * t$\n",
    "\n",
    "The first derivative of the speed function is acceleration. I realise that the speed function is closely related to the distance function.\n",
    "\n",
    "**Find the acceleration value and build the quadratic function  $(t ∈ [0,10])$. Also create a graph and a table.**"
   ]
  },
  {
   "cell_type": "code",
   "execution_count": 27,
   "id": "ec1f8bd7",
   "metadata": {},
   "outputs": [
    {
     "name": "stdout",
     "output_type": "stream",
     "text": [
      "[0.00000000e+00 1.04123282e-01 4.16493128e-01 9.37109538e-01\n",
      " 1.66597251e+00 2.60308205e+00 3.74843815e+00 5.10204082e+00\n",
      " 6.66389005e+00 8.43398584e+00 1.04123282e+01 1.25989171e+01\n",
      " 1.49937526e+01 1.75968347e+01 2.04081633e+01 2.34277384e+01\n",
      " 2.66555602e+01 3.00916285e+01 3.37359434e+01 3.75885048e+01\n",
      " 4.16493128e+01 4.59183673e+01 5.03956685e+01 5.50812162e+01\n",
      " 5.99750104e+01 6.50770512e+01 7.03873386e+01 7.59058726e+01\n",
      " 8.16326531e+01 8.75676801e+01 9.37109538e+01 1.00062474e+02\n",
      " 1.06622241e+02 1.13390254e+02 1.20366514e+02 1.27551020e+02\n",
      " 1.34943773e+02 1.42544773e+02 1.50354019e+02 1.58371512e+02\n",
      " 1.66597251e+02 1.75031237e+02 1.83673469e+02 1.92523948e+02\n",
      " 2.01582674e+02 2.10849646e+02 2.20324865e+02 2.30008330e+02\n",
      " 2.39900042e+02 2.50000000e+02]\n"
     ]
    }
   ],
   "source": [
    "def g(x):\n",
    "    return 2.5*x**2\n",
    "x = np.linspace(0,10) #domain\n",
    "print(g(x))"
   ]
  },
  {
   "cell_type": "code",
   "execution_count": 28,
   "id": "cc4c9ea0",
   "metadata": {},
   "outputs": [
    {
     "data": {
      "image/png": "[encoded data removed]",
      "text/plain": [
       "<Figure size 432x288 with 1 Axes>"
      ]
     },
     "metadata": {
      "needs_background": "light"
     },
     "output_type": "display_data"
    }
   ],
   "source": [
    "plt.plot(x, g(x), color='black')\n",
    "\n",
    "plt.show()"
   ]
  },
  {
   "cell_type": "code",
   "execution_count": 36,
   "id": "ba5c497b",
   "metadata": {},
   "outputs": [
    {
     "data": {
      "text/html": [
       "<div>\n",
       "<style scoped>\n",
       "    .dataframe tbody tr th:only-of-type {\n",
       "        vertical-align: middle;\n",
       "    }\n",
       "\n",
       "    .dataframe tbody tr th {\n",
       "        vertical-align: top;\n",
       "    }\n",
       "\n",
       "    .dataframe thead th {\n",
       "        text-align: right;\n",
       "    }\n",
       "</style>\n",
       "<table border=\"1\" class=\"dataframe\">\n",
       "  <thead>\n",
       "    <tr style=\"text-align: right;\">\n",
       "      <th></th>\n",
       "      <th>x</th>\n",
       "      <th>g(x)</th>\n",
       "    </tr>\n",
       "  </thead>\n",
       "  <tbody>\n",
       "    <tr>\n",
       "      <th>0</th>\n",
       "      <td>0.000000</td>\n",
       "      <td>0.000000</td>\n",
       "    </tr>\n",
       "    <tr>\n",
       "      <th>1</th>\n",
       "      <td>0.204082</td>\n",
       "      <td>0.104123</td>\n",
       "    </tr>\n",
       "    <tr>\n",
       "      <th>2</th>\n",
       "      <td>0.408163</td>\n",
       "      <td>0.416493</td>\n",
       "    </tr>\n",
       "    <tr>\n",
       "      <th>3</th>\n",
       "      <td>0.612245</td>\n",
       "      <td>0.937110</td>\n",
       "    </tr>\n",
       "    <tr>\n",
       "      <th>4</th>\n",
       "      <td>0.816327</td>\n",
       "      <td>1.665973</td>\n",
       "    </tr>\n",
       "  </tbody>\n",
       "</table>\n",
       "</div>"
      ],
      "text/plain": [
       "          x      g(x)\n",
       "0  0.000000  0.000000\n",
       "1  0.204082  0.104123\n",
       "2  0.408163  0.416493\n",
       "3  0.612245  0.937110\n",
       "4  0.816327  1.665973"
      ]
     },
     "execution_count": 36,
     "metadata": {},
     "output_type": "execute_result"
    }
   ],
   "source": [
    "df = pd.DataFrame({'x': x, 'g(x)': g(x)})\n",
    "df.head()"
   ]
  },
  {
   "cell_type": "markdown",
   "id": "66d4cc18",
   "metadata": {},
   "source": [
    "Before exercise 3, we'll make a brief introduction to Gradient Descent algorithm, which will have a larger explanation in future modules of the bootcamp.\n",
    "\n",
    "Gradient Descent algorithm is the hero behind the family of deep learning algorithms. When an algorithm in this family runs, it tries to minimize the error between the training input and predicted output. This minimization is done by optimization algorithms and gradient descent is the most popular one.\n",
    "\n",
    "Let’s say you have these input & output pairs:\n",
    "\n",
    "```py\n",
    "input:\n",
    "[\n",
    " [1,2],\n",
    " [3,4]\n",
    "]\n",
    "\n",
    "output:\n",
    "\n",
    "[\n",
    " [50],\n",
    " [110]\n",
    "]\n",
    "```\n",
    "We can estimate that if we multiply the input values by [10, 20], we can have the output as shown above.\n",
    "```py\n",
    "1(10) + 2(20) = 50\n",
    "\n",
    "3(10) + 4(20) = 110\n",
    "```\n",
    "When a machine learning algorithm starts running, it assigns random values and makes a prediction. \n",
    "Let’s say it assigned [1,2] values:\n",
    "```py\n",
    "1(1) + 2(2) = 5\n",
    "\n",
    "3(1) + 4(2) = 11\n",
    "```\n",
    "Once it has the predictions, it calculates the error: the difference between the real data and the predicted data. There are many ways to calculate the error and they are called loss functions. \n",
    "Once we have this value, the optimization algorithm starts showing itself and it sets new values which replace the initial random values. \n",
    "\n",
    "And, the loop continues until a condition is met. That condition can be to loop n times, or to loop until error is smaller than a value."
   ]
  },
  {
   "cell_type": "markdown",
   "id": "85ef2f0b",
   "metadata": {},
   "source": [
    "It can be hard to understand **gradient descent** without understanding **gradient**. So, let’s focus on what gradient is. The gradient shows the direction of the greatest change of a scalar function. The gradient calculation is done with derivatives, so let’s start with a simple example. To calculate the gradient, we just need to remember some linear algebra calculations from high school because we need to calculate derivatives.\n",
    "\n",
    "Let’s say we want to find the minimum point of $f(x) = x^2$. The derivative of that function is $df(x)=2x$. \n",
    "\n",
    "The gradient of $f(x)$ at point $x=-10$\n",
    "\n",
    "is \n",
    "\n",
    "$df(-10)=-20$.\n",
    "\n",
    "The gradient of $f(x)$ at point $x=1$\n",
    "\n",
    "is \n",
    "\n",
    "$df(1)=2$.\n",
    "\n",
    "Now let’s visualize $f(x)$ and those $x=-10$ and $x=1$ points."
   ]
  },
  {
   "cell_type": "code",
   "execution_count": 37,
   "id": "4ff7e11a",
   "metadata": {},
   "outputs": [],
   "source": [
    "import numpy as np\n",
    "import seaborn as sns\n",
    "\n",
    "def f(x):\n",
    "    return x**2\n",
    "\n",
    "def df(x):\n",
    "    return 2*x\n",
    "\n",
    "def visualize(f, x=None):\n",
    "    \n",
    "    xArray = np.linspace(-10, 10, 100) \n",
    "    yArray = f(xArray)\n",
    "    sns.lineplot(x=xArray, y=yArray)\n",
    "    \n",
    "    if x is not None:\n",
    "        assert type(x) in [np.ndarray, list] # x should be numpy array or list\n",
    "        if type(x) is list: # if it is a list, convert to numpy array\n",
    "            x = np.array(x)\n",
    "\n",
    "            \n",
    "        y = f(x)\n",
    "        sns.scatterplot(x=x, y=y, color='red')"
   ]
  },
  {
   "cell_type": "code",
   "execution_count": 38,
   "id": "633a54fd",
   "metadata": {},
   "outputs": [
    {
     "data": {
      "image/png": "[encoded data removed]",
      "text/plain": [
       "<Figure size 432x288 with 1 Axes>"
      ]
     },
     "metadata": {
      "needs_background": "light"
     },
     "output_type": "display_data"
    }
   ],
   "source": [
    "visualize(f, x=[-10, 1])"
   ]
  },
  {
   "cell_type": "markdown",
   "id": "9c187ad7",
   "metadata": {},
   "source": [
    "The red dot at x=-10 does not know the surface it stands on and it only knows the coordinates of where it stands and that the gradient of itself which is -20. And the other red dot at x=1 does not know the surface it stands on and it only knows the coordinates of where it stands and that the gradient of itself which is 2.\n",
    "\n",
    "By having only this information: we can say that the red dot at x=-10 should make a bigger jump than x=1 because it has a bigger absolute gradient value. The sign shows the direction. - shows that the red dot at x=-10 should move to the right and the other one should move to the left.\n",
    "\n",
    "In summary; the red dot at x=-10 (gradient: -20) should make a bigger jump to the right and the red dot at x=1 (gradient: 2) should make a smaller jump to the left. \n",
    "\n",
    "We know that the jump length should be proportional to the gradient, but what is that value exactly? We don’t know. So, let’s just say that red points should move with the length of alpha*gradient where alpha is just a parameter.\n",
    "\n",
    "We can say that the new location of the red dot should be calculated with the following formula:\n",
    "\n",
    "x = x - gradient * alpha"
   ]
  },
  {
   "cell_type": "markdown",
   "id": "0a7f5c3f",
   "metadata": {},
   "source": [
    "Now let's implement this with **Numpy**. Let’s start with visualizing $f(x)=x^2$ function and $x=-10$ point."
   ]
  },
  {
   "cell_type": "code",
   "execution_count": 24,
   "id": "e26dbdf0",
   "metadata": {},
   "outputs": [
    {
     "data": {
      "image/png": "[encoded data removed]",
      "text/plain": [
       "<Figure size 432x288 with 1 Axes>"
      ]
     },
     "metadata": {
      "needs_background": "light"
     },
     "output_type": "display_data"
    }
   ],
   "source": [
    "visualize(f, x=[-10])"
   ]
  },
  {
   "cell_type": "markdown",
   "id": "6e752e19",
   "metadata": {},
   "source": [
    "The following code implements the whole logic explained before:"
   ]
  },
  {
   "cell_type": "code",
   "execution_count": 39,
   "id": "2bdd54f1",
   "metadata": {},
   "outputs": [],
   "source": [
    "def gradient_descent(x, nsteps=1):\n",
    "    \n",
    "    \n",
    "    #collectXs is an array to store how x changed in each iteration, \n",
    "    #so we can visualize it later\n",
    "    \n",
    "    collectXs = [x]\n",
    "    \n",
    "    #learning_rate is the value that we mentioned as alpha in previous section\n",
    "    \n",
    "    learning_rate = 1e-01\n",
    "    \n",
    "    for _ in range(nsteps):\n",
    "        \n",
    "        #the following one line does the real magic\n",
    "        #the next value of x is calculated by subtracting the gradient*learning_rate by itself\n",
    "        #the intuation behind this line is in the previous section\n",
    "        \n",
    "        x -= df(x) * learning_rate \n",
    "        collectXs.append(x)\n",
    "        \n",
    "    #we return a tuple that contains\n",
    "    #x -> recent x after nsteps \n",
    "    #collectXs -> all the x values that was calculated so far\n",
    "    \n",
    "    return x, collectXs"
   ]
  },
  {
   "cell_type": "markdown",
   "id": "aea74a65",
   "metadata": {},
   "source": [
    "Before running gradient descent with 1000 steps, let’s just run it twice, one step at a time to see how x evolves. \n",
    "We start with x=-10 and it evolves to x=-8. We know that when x=0 that is the **minimum point**, so, yes it is evolving in the correct direction."
   ]
  },
  {
   "cell_type": "code",
   "execution_count": 40,
   "id": "0350981e",
   "metadata": {},
   "outputs": [
    {
     "name": "stdout",
     "output_type": "stream",
     "text": [
      "-8.0\n"
     ]
    }
   ],
   "source": [
    "x=-10\n",
    "x, collectedXs = gradient_descent(x, nsteps=1)\n",
    "print(x)"
   ]
  },
  {
   "cell_type": "code",
   "execution_count": 41,
   "id": "f8e01e2d",
   "metadata": {},
   "outputs": [
    {
     "name": "stdout",
     "output_type": "stream",
     "text": [
      "-6.4\n"
     ]
    }
   ],
   "source": [
    "#The next step will start at x=-8. Let's run gradient for 1 step\n",
    "\n",
    "x, collectedXs = gradient_descent(x, nsteps=1)\n",
    "print(x)"
   ]
  },
  {
   "cell_type": "markdown",
   "id": "93f13b32",
   "metadata": {},
   "source": [
    "It goes to x=-6.4. Excelent. Now let's run it 1000 times"
   ]
  },
  {
   "cell_type": "code",
   "execution_count": 42,
   "id": "b699d1fb",
   "metadata": {},
   "outputs": [
    {
     "name": "stdout",
     "output_type": "stream",
     "text": [
      "-7.873484301831169e-97\n"
     ]
    }
   ],
   "source": [
    "x, collectedXs = gradient_descent(x, nsteps=1000)\n",
    "print(x)"
   ]
  },
  {
   "cell_type": "code",
   "execution_count": 43,
   "id": "0b76ee22",
   "metadata": {},
   "outputs": [
    {
     "data": {
      "image/png": "[encoded data removed]",
      "text/plain": [
       "<Figure size 432x288 with 1 Axes>"
      ]
     },
     "metadata": {
      "needs_background": "light"
     },
     "output_type": "display_data"
    }
   ],
   "source": [
    "visualize(f, x=collectedXs)"
   ]
  },
  {
   "cell_type": "markdown",
   "id": "d00d2fbb",
   "metadata": {},
   "source": [
    "### Exercise 3\n",
    "\n",
    "When I arrive to the coffee machine, I hear my colleague talking about the per-unit costs of producing 'product B' for the company. As the company produces more units, the per-unit costs continue to decrease until a point where it starts to increase.\n",
    "\n",
    "To optimise the per-unit production cost at its minimal to optimise efficiency, the company would need to find the number of units to be produced where the per-unit production costs begin to change from decreasing to increasing.\n",
    "\n",
    "**Build a quadratic function $f(x)=0.1(x)^2−9x +4500$ on $x∈[0,100]$  to create the per-unit cost function, and make a conclusion.**"
   ]
  },
  {
   "cell_type": "code",
   "execution_count": 2,
   "id": "7c67d8b7",
   "metadata": {},
   "outputs": [
    {
     "data": {
      "image/png": "[encoded data removed]",
      "text/plain": [
       "<Figure size 432x288 with 1 Axes>"
      ]
     },
     "metadata": {
      "needs_background": "light"
     },
     "output_type": "display_data"
    }
   ],
   "source": [
    "def f(x):\n",
    "    return 0.1*x**2 - 9*x + 4500\n",
    "\n",
    "x=np.linspace(1,100)\n",
    "\n",
    "plt.plot(x, f(x), color='black')\n",
    "plt.show()"
   ]
  },
  {
   "cell_type": "markdown",
   "id": "fbe54895",
   "metadata": {},
   "source": [
    "We saw with Gradient Descent how the red dot navigates in an environment it does not know about. It only knows the coordinates of where it is and its gradient. The red dot could find the minimum point by using only this knowledge and gradient descent algorithm.\n",
    "\n",
    "**Optional:**\n",
    "\n",
    "Implement all the previous steps to create a gradient descent algorithm to see how the per-unit cost evolves, with a starting point of 0 units of production."
   ]
  },
  {
   "cell_type": "code",
   "execution_count": 3,
   "id": "e7b8e33d",
   "metadata": {},
   "outputs": [
    {
     "data": {
      "text/latex": [
       "$\\displaystyle 0.2 x - 9$"
      ],
      "text/plain": [
       "0.2*x - 9"
      ]
     },
     "execution_count": 3,
     "metadata": {},
     "output_type": "execute_result"
    }
   ],
   "source": [
    "x = sy.Symbol('x')\n",
    "df = sy.diff(f(x))\n",
    "a = sy.solve(df, x)\n",
    "df\n"
   ]
  },
  {
   "cell_type": "code",
   "execution_count": 4,
   "id": "987f3401",
   "metadata": {},
   "outputs": [],
   "source": [
    "import numpy as np\n",
    "import seaborn as sns\n",
    "\n",
    "def f(x):\n",
    "    return 0.1*x**2 - 9*x + 4500\n",
    "\n",
    "def df(x):   \n",
    "    return 0.2*x - 9\n",
    "#0.2*x - 9\n",
    "\n",
    "def visualize(f, x=None):\n",
    "    \n",
    "    xArray = np.linspace(-10, 1000, 100) \n",
    "    yArray = f(xArray)\n",
    "    sns.lineplot(x=xArray, y=yArray)\n",
    "    \n",
    "    if x is not None:\n",
    "        assert type(x) in [np.ndarray, list] # x should be numpy array or list\n",
    "        if type(x) is list: # if it is a list, convert to numpy array\n",
    "            x = np.array(x)\n",
    "\n",
    "            \n",
    "        y = f(x)\n",
    "        sns.scatterplot(x=x, y=y, color='red')\n"
   ]
  },
  {
   "cell_type": "code",
   "execution_count": 5,
   "id": "7de18b92",
   "metadata": {},
   "outputs": [
    {
     "data": {
      "image/png": "[encoded data removed]",
      "text/plain": [
       "<Figure size 432x288 with 1 Axes>"
      ]
     },
     "metadata": {
      "needs_background": "light"
     },
     "output_type": "display_data"
    }
   ],
   "source": [
    "visualize(f, x = [0])"
   ]
  },
  {
   "cell_type": "code",
   "execution_count": 6,
   "id": "5bf19820",
   "metadata": {},
   "outputs": [],
   "source": [
    "def gradient_descent(x, nsteps=1):\n",
    "    \n",
    "    \n",
    "    #collectXs is an array to store how x changed in each iteration, \n",
    "    #so we can visualize it later\n",
    "    \n",
    "    collectXs = [x]\n",
    "    \n",
    "    #learning_rate is the value that we mentioned as alpha in previous section\n",
    "    \n",
    "    learning_rate = 1e-01\n",
    "    \n",
    "    for _ in range(nsteps):\n",
    "        \n",
    "        #the following one line does the real magic\n",
    "        #the next value of x is calculated by subtracting the gradient*learning_rate by itself\n",
    "        #the intuation behind this line is in the previous section\n",
    "        \n",
    "        x -= df(x) * learning_rate \n",
    "        collectXs.append(x)\n",
    "        \n",
    "    #we return a tuple that contains\n",
    "    #x -> recent x after nsteps \n",
    "    #collectXs -> all the x values that was calculated so far\n",
    "    \n",
    "    return x, collectXs"
   ]
  },
  {
   "cell_type": "code",
   "execution_count": 7,
   "id": "88463d4d",
   "metadata": {},
   "outputs": [
    {
     "name": "stdout",
     "output_type": "stream",
     "text": [
      "-8.9\n"
     ]
    }
   ],
   "source": [
    "x=-10\n",
    "x, collectedXs = gradient_descent(x, nsteps=1)\n",
    "print(x)"
   ]
  },
  {
   "cell_type": "code",
   "execution_count": 8,
   "id": "47b9c974",
   "metadata": {},
   "outputs": [
    {
     "name": "stdout",
     "output_type": "stream",
     "text": [
      "-7.822\n"
     ]
    }
   ],
   "source": [
    "#The next step will start at x=-8. Let's run gradient for 1 step\n",
    "\n",
    "x, collectedXs = gradient_descent(x, nsteps=1)\n",
    "print(x)"
   ]
  },
  {
   "cell_type": "code",
   "execution_count": 9,
   "id": "3c1445e0",
   "metadata": {},
   "outputs": [
    {
     "name": "stdout",
     "output_type": "stream",
     "text": [
      "44.99999991110229\n"
     ]
    }
   ],
   "source": [
    "x, collectedXs = gradient_descent(x, nsteps=1000)\n",
    "print(x)"
   ]
  },
  {
   "cell_type": "code",
   "execution_count": 10,
   "id": "e6c372a9",
   "metadata": {},
   "outputs": [
    {
     "data": {
      "image/png": "[encoded data removed]",
      "text/plain": [
       "<Figure size 432x288 with 1 Axes>"
      ]
     },
     "metadata": {
      "needs_background": "light"
     },
     "output_type": "display_data"
    }
   ],
   "source": [
    "visualize(f, x=collectedXs)"
   ]
  },
  {
   "cell_type": "markdown",
   "id": "aabad82c",
   "metadata": {},
   "source": [
    "## Linear Algebra"
   ]
  },
  {
   "cell_type": "markdown",
   "id": "6753636d",
   "metadata": {},
   "source": [
    "# Exercise 1 : Sum of two matrices\n",
    "\n",
    "Suppose we have two matrices A and B.\n",
    "```py\n",
    "A = [[1,2],[3,4]]\n",
    "B = [[4,5],[6,7]]\n",
    "\n",
    "then we get\n",
    "A+B = [[5,7],[9,11]]\n",
    "A-B = [[-3,-3],[-3,-3]]\n",
    "```\n",
    "\n",
    "Make the sum of two matrices using Python with Numpy"
   ]
  },
  {
   "cell_type": "code",
   "execution_count": 57,
   "id": "9e200c32",
   "metadata": {},
   "outputs": [
    {
     "name": "stdout",
     "output_type": "stream",
     "text": [
      "[[1 2]\n",
      " [3 4]]\n",
      "------------------------------\n",
      "[[4 5]\n",
      " [6 7]]\n",
      "------------------------------\n",
      "[[ 5  7]\n",
      " [ 9 11]]\n"
     ]
    }
   ],
   "source": [
    "# importing numpy as np\n",
    "\n",
    " \n",
    "m1=np.array([[1,2],[3,4]])\n",
    "print(m1)\n",
    "print('-'*30)\n",
    "m2=np.array([[4,5],[6,7]])\n",
    "print(m2)\n",
    "print('-'*30)\n",
    "resultado=m1+m2\n",
    "print(resultado)\n",
    "\n",
    "\n"
   ]
  },
  {
   "cell_type": "markdown",
   "id": "93bfb6cc",
   "metadata": {},
   "source": [
    "### Exercise 2: Sum of two lists\n",
    "\n",
    "There will be many situations in which we'll have to find index wise summation of two different lists. This can have possible applications in day-to-day programming. In this exercise we will solve the same problem with various ways in which this task can be performed.\n",
    "\n",
    "We have the following two lists:\n",
    "```py\n",
    "list1 = [2, 5, 4, 7, 3]\n",
    "list2 = [1, 4, 6, 9, 10]\n",
    "```\n",
    "\n",
    "Now let's use Python code to demonstrate addition of two lists.\n"
   ]
  },
  {
   "cell_type": "code",
   "execution_count": 58,
   "id": "867b70fc",
   "metadata": {},
   "outputs": [
    {
     "name": "stdout",
     "output_type": "stream",
     "text": [
      "Original list 1 : [2, 5, 4, 7, 3]\n",
      "Original list 2 : [1, 4, 6, 9, 10]\n",
      "Resultant list is : [3, 9, 10, 16, 13]\n"
     ]
    }
   ],
   "source": [
    "# Naive method\n",
    "\n",
    "# initializing lists\n",
    "list1 = [2, 5, 4, 7, 3]\n",
    "list2 = [1, 4, 6, 9, 10]\n",
    " \n",
    "# printing original lists\n",
    "print (\"Original list 1 : \" + str(list1))\n",
    "print (\"Original list 2 : \" + str(list2))\n",
    " \n",
    "# using naive method to \n",
    "# add two list \n",
    "res_list = []\n",
    "for i in range(0, len(list1)):\n",
    " res_list.append(list1[i] + list2[i])\n",
    " \n",
    "# printing resultant list \n",
    "print (\"Resultant list is : \" + str(res_list))"
   ]
  },
  {
   "cell_type": "markdown",
   "id": "7a063d7f",
   "metadata": {},
   "source": [
    "Now use the following three different methods to make the same calculation: sum of two lists"
   ]
  },
  {
   "cell_type": "code",
   "execution_count": 66,
   "id": "681930a3",
   "metadata": {},
   "outputs": [
    {
     "name": "stdout",
     "output_type": "stream",
     "text": [
      "[3, 9, 10, 16, 13]\n"
     ]
    }
   ],
   "source": [
    "# Use list comprehensions to perform addition of the two lists:\n",
    "r=[list1[i]+list2[i] for i in range(len(list1))]\n",
    "print(r)"
   ]
  },
  {
   "cell_type": "code",
   "execution_count": 69,
   "id": "a3a8a425",
   "metadata": {},
   "outputs": [
    {
     "data": {
      "text/plain": [
       "[3, 9, 10, 16, 13]"
      ]
     },
     "execution_count": 69,
     "metadata": {},
     "output_type": "execute_result"
    }
   ],
   "source": [
    "# Use map() + add():\n",
    "from operator import add\n",
    "res_lt = list(map (add, list1, list2)) \n",
    "print(res_lt)"
   ]
  },
  {
   "cell_type": "code",
   "execution_count": 73,
   "id": "b7a7d7ae",
   "metadata": {},
   "outputs": [
    {
     "name": "stdout",
     "output_type": "stream",
     "text": [
      "[3, 9, 10, 16, 13]\n"
     ]
    }
   ],
   "source": [
    "# Use zip() + sum():\n",
    "res_list = [sum(i) for i in zip(list1, list2)]\n",
    "print(res_list)"
   ]
  },
  {
   "cell_type": "markdown",
   "id": "1aef1bd2",
   "metadata": {},
   "source": [
    "### Exercise 3 : Dot multiplication\n",
    "\n",
    "We have two matrices:\n",
    "```py\n",
    "matrix1 = [[1,7,3],\n",
    " [ 4,5,2],\n",
    " [ 3,6,1]]\n",
    "matrix2 = [[5,4,1],\n",
    " [ 1,2,3],\n",
    " [ 4,5,2]]\n",
    "```\n",
    "\n",
    "A simple technique but expensive method for larger input datasets is using for loops. In this exercise we will first use nested for loops to iterate through each row and column of the matrices, and then we will perform the same multiplication using Numpy."
   ]
  },
  {
   "cell_type": "code",
   "execution_count": 86,
   "id": "840e7d0e",
   "metadata": {},
   "outputs": [
    {
     "name": "stdout",
     "output_type": "stream",
     "text": [
      "[[24, 33, 28], [33, 36, 23], [25, 29, 23]]\n"
     ]
    }
   ],
   "source": [
    "#Using a for loop input two matrices of size n x m\n",
    "matrix1 = [[1,7,3],\n",
    " [ 4,5,2],\n",
    " [ 3,6,1]]\n",
    "matrix2 = [[5,4,1],\n",
    " [ 1,2,3],\n",
    " [ 4,5,2]]\n",
    " \n",
    "res = [[0 for x in range(3)] for y in range(3)]\n",
    " \n",
    "# explicit for loops\n",
    "for i in range(len(matrix1)):\n",
    "    for j in range(len(matrix2[0])):\n",
    "        for k in range(len(matrix2)):\n",
    " \n",
    " # resulted matrix\n",
    "            res[i][j] += matrix1[i][k] * matrix2[k][j]\n",
    " \n",
    "print(res)"
   ]
  },
  {
   "cell_type": "code",
   "execution_count": 85,
   "id": "db6c3355",
   "metadata": {},
   "outputs": [
    {
     "data": {
      "text/plain": [
       "array([[24, 33, 28],\n",
       "       [33, 36, 23],\n",
       "       [25, 29, 23]])"
      ]
     },
     "execution_count": 85,
     "metadata": {},
     "output_type": "execute_result"
    }
   ],
   "source": [
    "# Import libraries\n",
    "\n",
    "matrix1 = [[1,7,3],\n",
    " [ 4,5,2],\n",
    " [ 3,6,1]]\n",
    "matrix2 = [[5,4,1],\n",
    " [ 1,2,3],\n",
    " [ 4,5,2]]\n",
    "\n",
    " \n",
    "r=np.dot(matrix1,matrix2)\n",
    "r\n",
    "\n",
    " \n",
    "# print resulted matrix\n"
   ]
  },
  {
   "cell_type": "markdown",
   "id": "785f6c30",
   "metadata": {},
   "source": [
    "\n",
    "https://www.youtube.com/channel/UCXq-PLvYAX-EufF5RAPihVg\n",
    "\n",
    "https://www.geeksforgeeks.org/\n",
    "\n",
    "https://medium.com/@seehleung/basic-calculus-explained-for-machine-learning-c7f642e7ced3\n",
    "\n",
    "https://blog.demir.io/understanding-gradient-descent-266fc3dcf02f"
   ]
  }
 ],
 "metadata": {
  "interpreter": {
   "hash": "d3463682613d55fcbb64853e38cc3520a7f67bdf8d6940e781ddcdc423122719"
  },
  "kernelspec": {
   "display_name": "Python 3 (ipykernel)",
   "language": "python",
   "name": "python3"
  },
  "language_info": {
   "codemirror_mode": {
    "name": "ipython",
    "version": 3
   },
   "file_extension": ".py",
   "mimetype": "text/x-python",
   "name": "python",
   "nbconvert_exporter": "python",
   "pygments_lexer": "ipython3",
   "version": "3.9.7"
  }
 },
 "nbformat": 4,
 "nbformat_minor": 5
}
